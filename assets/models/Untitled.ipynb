{
 "cells": [
  {
   "cell_type": "code",
   "execution_count": 2,
   "id": "b33fffef-064b-4a40-b0db-af823f485ac9",
   "metadata": {},
   "outputs": [
    {
     "name": "stdout",
     "output_type": "stream",
     "text": [
      "Found 70295 images belonging to 38 classes.\n",
      "Found 17572 images belonging to 38 classes.\n",
      "📌 Number of Classes: 38\n",
      "Epoch 1/10\n"
     ]
    },
    {
     "name": "stderr",
     "output_type": "stream",
     "text": [
      "C:\\Users\\sathya sai\\AppData\\Local\\Packages\\PythonSoftwareFoundation.Python.3.11_qbz5n2kfra8p0\\LocalCache\\local-packages\\Python311\\site-packages\\keras\\src\\trainers\\data_adapters\\py_dataset_adapter.py:122: UserWarning: Your `PyDataset` class should call `super().__init__(**kwargs)` in its constructor. `**kwargs` can include `workers`, `use_multiprocessing`, `max_queue_size`. Do not pass these arguments to `fit()`, as they will be ignored.\n",
      "  self._warn_if_super_not_called()\n"
     ]
    },
    {
     "name": "stdout",
     "output_type": "stream",
     "text": [
      "\u001b[1m2197/2197\u001b[0m \u001b[32m━━━━━━━━━━━━━━━━━━━━\u001b[0m\u001b[37m\u001b[0m \u001b[1m1366s\u001b[0m 620ms/step - accuracy: 0.1356 - loss: 3.2105 - val_accuracy: 0.5722 - val_loss: 1.7971\n",
      "Epoch 2/10\n",
      "\u001b[1m2197/2197\u001b[0m \u001b[32m━━━━━━━━━━━━━━━━━━━━\u001b[0m\u001b[37m\u001b[0m \u001b[1m1126s\u001b[0m 512ms/step - accuracy: 0.4337 - loss: 1.9351 - val_accuracy: 0.7158 - val_loss: 1.1485\n",
      "Epoch 3/10\n",
      "\u001b[1m2197/2197\u001b[0m \u001b[32m━━━━━━━━━━━━━━━━━━━━\u001b[0m\u001b[37m\u001b[0m \u001b[1m682s\u001b[0m 310ms/step - accuracy: 0.5460 - loss: 1.4954 - val_accuracy: 0.7814 - val_loss: 0.8794\n",
      "Epoch 4/10\n",
      "\u001b[1m2197/2197\u001b[0m \u001b[32m━━━━━━━━━━━━━━━━━━━━\u001b[0m\u001b[37m\u001b[0m \u001b[1m667s\u001b[0m 303ms/step - accuracy: 0.6114 - loss: 1.2700 - val_accuracy: 0.8051 - val_loss: 0.7585\n",
      "Epoch 5/10\n",
      "\u001b[1m2197/2197\u001b[0m \u001b[32m━━━━━━━━━━━━━━━━━━━━\u001b[0m\u001b[37m\u001b[0m \u001b[1m666s\u001b[0m 303ms/step - accuracy: 0.6404 - loss: 1.1539 - val_accuracy: 0.8214 - val_loss: 0.6605\n",
      "Epoch 6/10\n",
      "\u001b[1m2197/2197\u001b[0m \u001b[32m━━━━━━━━━━━━━━━━━━━━\u001b[0m\u001b[37m\u001b[0m \u001b[1m653s\u001b[0m 297ms/step - accuracy: 0.6696 - loss: 1.0511 - val_accuracy: 0.8317 - val_loss: 0.5994\n",
      "Epoch 7/10\n",
      "\u001b[1m2197/2197\u001b[0m \u001b[32m━━━━━━━━━━━━━━━━━━━━\u001b[0m\u001b[37m\u001b[0m \u001b[1m657s\u001b[0m 299ms/step - accuracy: 0.7000 - loss: 0.9582 - val_accuracy: 0.8486 - val_loss: 0.5333\n",
      "Epoch 8/10\n",
      "\u001b[1m2197/2197\u001b[0m \u001b[32m━━━━━━━━━━━━━━━━━━━━\u001b[0m\u001b[37m\u001b[0m \u001b[1m635s\u001b[0m 289ms/step - accuracy: 0.7223 - loss: 0.8794 - val_accuracy: 0.8688 - val_loss: 0.4580\n",
      "Epoch 9/10\n",
      "\u001b[1m2197/2197\u001b[0m \u001b[32m━━━━━━━━━━━━━━━━━━━━\u001b[0m\u001b[37m\u001b[0m \u001b[1m634s\u001b[0m 288ms/step - accuracy: 0.7385 - loss: 0.8308 - val_accuracy: 0.8632 - val_loss: 0.4673\n",
      "Epoch 10/10\n",
      "\u001b[1m2197/2197\u001b[0m \u001b[32m━━━━━━━━━━━━━━━━━━━━\u001b[0m\u001b[37m\u001b[0m \u001b[1m680s\u001b[0m 310ms/step - accuracy: 0.7566 - loss: 0.7696 - val_accuracy: 0.8778 - val_loss: 0.4166\n",
      "INFO:tensorflow:Assets written to: C:\\Users\\SATHYA~1\\AppData\\Local\\Temp\\tmpief2qhst\\assets\n"
     ]
    },
    {
     "name": "stderr",
     "output_type": "stream",
     "text": [
      "INFO:tensorflow:Assets written to: C:\\Users\\SATHYA~1\\AppData\\Local\\Temp\\tmpief2qhst\\assets\n"
     ]
    },
    {
     "name": "stdout",
     "output_type": "stream",
     "text": [
      "Saved artifact at 'C:\\Users\\SATHYA~1\\AppData\\Local\\Temp\\tmpief2qhst'. The following endpoints are available:\n",
      "\n",
      "* Endpoint 'serve'\n",
      "  args_0 (POSITIONAL_ONLY): TensorSpec(shape=(None, 128, 128, 3), dtype=tf.float32, name='keras_tensor_13')\n",
      "Output Type:\n",
      "  TensorSpec(shape=(None, 38), dtype=tf.float32, name=None)\n",
      "Captures:\n",
      "  2982606486608: TensorSpec(shape=(), dtype=tf.resource, name=None)\n",
      "  2982606486032: TensorSpec(shape=(), dtype=tf.resource, name=None)\n",
      "  2982606487184: TensorSpec(shape=(), dtype=tf.resource, name=None)\n",
      "  2982619989200: TensorSpec(shape=(), dtype=tf.resource, name=None)\n",
      "  2982619989392: TensorSpec(shape=(), dtype=tf.resource, name=None)\n",
      "  2982619989968: TensorSpec(shape=(), dtype=tf.resource, name=None)\n",
      "  2982619990160: TensorSpec(shape=(), dtype=tf.resource, name=None)\n",
      "  2982619990736: TensorSpec(shape=(), dtype=tf.resource, name=None)\n",
      "  2982619990928: TensorSpec(shape=(), dtype=tf.resource, name=None)\n",
      "  2982619991504: TensorSpec(shape=(), dtype=tf.resource, name=None)\n",
      "✅ Model training complete and saved successfully!\n"
     ]
    }
   ],
   "source": [
    "import tensorflow as tf\n",
    "from tensorflow import keras\n",
    "from tensorflow.keras.layers import Conv2D, MaxPooling2D, Flatten, Dense, Dropout\n",
    "from tensorflow.keras.preprocessing.image import ImageDataGenerator\n",
    "\n",
    "# ✅ Image Dimensions\n",
    "IMG_SIZE = (128, 128)\n",
    "BATCH_SIZE = 32\n",
    "\n",
    "# ✅ ImageDataGenerator with One-Hot Encoding\n",
    "train_datagen = ImageDataGenerator(rescale=1./255)\n",
    "valid_datagen = ImageDataGenerator(rescale=1./255)\n",
    "\n",
    "# ✅ Load Training & Validation Data\n",
    "train_dir = \"train/\"  # Update if needed\n",
    "valid_dir = \"valid/\"  # Update if needed\n",
    "\n",
    "training_set = train_datagen.flow_from_directory(\n",
    "    train_dir,\n",
    "    target_size=IMG_SIZE,\n",
    "    batch_size=BATCH_SIZE,\n",
    "    class_mode=\"categorical\"  # ✅ Ensures One-Hot Encoding\n",
    ")\n",
    "\n",
    "validation_set = valid_datagen.flow_from_directory(\n",
    "    valid_dir,\n",
    "    target_size=IMG_SIZE,\n",
    "    batch_size=BATCH_SIZE,\n",
    "    class_mode=\"categorical\"  # ✅ Ensures One-Hot Encoding\n",
    ")\n",
    "\n",
    "# ✅ Get Number of Classes\n",
    "num_classes = len(training_set.class_indices)\n",
    "print(f\"📌 Number of Classes: {num_classes}\")\n",
    "\n",
    "# ✅ CNN Model Architecture\n",
    "cnn = keras.Sequential([\n",
    "    keras.layers.Input(shape=(128, 128, 3)),  # ✅ Correct Input Shape\n",
    "    Conv2D(32, (3,3), activation='relu', padding='same'),\n",
    "    MaxPooling2D(pool_size=(2,2)),\n",
    "    Dropout(0.25),\n",
    "\n",
    "    Conv2D(64, (3,3), activation='relu', padding='same'),\n",
    "    MaxPooling2D(pool_size=(2,2)),\n",
    "    Dropout(0.25),\n",
    "\n",
    "    Conv2D(128, (3,3), activation='relu', padding='same'),\n",
    "    MaxPooling2D(pool_size=(2,2)),\n",
    "    Dropout(0.25),\n",
    "\n",
    "    Flatten(),\n",
    "    Dense(256, activation='relu'),\n",
    "    Dropout(0.5),\n",
    "    Dense(num_classes, activation='softmax')  # ✅ Output layer\n",
    "])\n",
    "\n",
    "# ✅ Compile Model\n",
    "cnn.compile(\n",
    "    optimizer=keras.optimizers.Adam(learning_rate=0.0001),\n",
    "    loss=\"categorical_crossentropy\",\n",
    "    metrics=[\"accuracy\"]\n",
    ")\n",
    "\n",
    "# ✅ Train Model\n",
    "training_history = cnn.fit(training_set, validation_data=validation_set, epochs=10)\n",
    "\n",
    "# ✅ Save Model in Keras Format\n",
    "cnn.save(\"trained_plant_disease_model.keras\")\n",
    "\n",
    "# ✅ Convert to TFLite for Flutter App\n",
    "converter = tf.lite.TFLiteConverter.from_keras_model(cnn)\n",
    "tflite_model = converter.convert()\n",
    "with open(\"trained_plant_disease_model.tflite\", \"wb\") as f:\n",
    "    f.write(tflite_model)\n",
    "\n",
    "print(\"✅ Model training complete and saved successfully!\")\n"
   ]
  },
  {
   "cell_type": "code",
   "execution_count": null,
   "id": "47972cbb-2a4f-443d-8361-f653bd152fbc",
   "metadata": {},
   "outputs": [],
   "source": []
  },
  {
   "cell_type": "code",
   "execution_count": null,
   "id": "59829d52-3d9e-422d-bc06-b97d314651ac",
   "metadata": {},
   "outputs": [],
   "source": []
  }
 ],
 "metadata": {
  "kernelspec": {
   "display_name": "Python 3 (ipykernel)",
   "language": "python",
   "name": "python3"
  },
  "language_info": {
   "codemirror_mode": {
    "name": "ipython",
    "version": 3
   },
   "file_extension": ".py",
   "mimetype": "text/x-python",
   "name": "python",
   "nbconvert_exporter": "python",
   "pygments_lexer": "ipython3",
   "version": "3.11.9"
  }
 },
 "nbformat": 4,
 "nbformat_minor": 5
}
